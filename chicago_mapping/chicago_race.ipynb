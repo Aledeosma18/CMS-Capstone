{
 "cells": [
  {
   "cell_type": "code",
   "execution_count": 2,
   "metadata": {},
   "outputs": [],
   "source": [
    "import geopandas as gpd\n",
    "import contextily as ctx\n",
    "import matplotlib.pyplot as plt"
   ]
  },
  {
   "cell_type": "code",
   "execution_count": 3,
   "metadata": {},
   "outputs": [
    {
     "data": {
      "text/html": [
       "<div>\n",
       "<style scoped>\n",
       "    .dataframe tbody tr th:only-of-type {\n",
       "        vertical-align: middle;\n",
       "    }\n",
       "\n",
       "    .dataframe tbody tr th {\n",
       "        vertical-align: top;\n",
       "    }\n",
       "\n",
       "    .dataframe thead th {\n",
       "        text-align: right;\n",
       "    }\n",
       "</style>\n",
       "<table border=\"1\" class=\"dataframe\">\n",
       "  <thead>\n",
       "    <tr style=\"text-align: right;\">\n",
       "      <th></th>\n",
       "      <th>geoid</th>\n",
       "      <th>name</th>\n",
       "      <th>B02001001</th>\n",
       "      <th>B02001001, Error</th>\n",
       "      <th>B02001002</th>\n",
       "      <th>B02001002, Error</th>\n",
       "      <th>B02001003</th>\n",
       "      <th>B02001003, Error</th>\n",
       "      <th>B02001004</th>\n",
       "      <th>B02001004, Error</th>\n",
       "      <th>...</th>\n",
       "      <th>B02001006, Error</th>\n",
       "      <th>B02001007</th>\n",
       "      <th>B02001007, Error</th>\n",
       "      <th>B02001008</th>\n",
       "      <th>B02001008, Error</th>\n",
       "      <th>B02001009</th>\n",
       "      <th>B02001009, Error</th>\n",
       "      <th>B02001010</th>\n",
       "      <th>B02001010, Error</th>\n",
       "      <th>geometry</th>\n",
       "    </tr>\n",
       "  </thead>\n",
       "  <tbody>\n",
       "    <tr>\n",
       "      <th>0</th>\n",
       "      <td>16000US1714000</td>\n",
       "      <td>Chicago, IL</td>\n",
       "      <td>2699347.0</td>\n",
       "      <td>62.0</td>\n",
       "      <td>1288441.0</td>\n",
       "      <td>8313.0</td>\n",
       "      <td>788732.0</td>\n",
       "      <td>4881.0</td>\n",
       "      <td>9244.0</td>\n",
       "      <td>1296.0</td>\n",
       "      <td>...</td>\n",
       "      <td>244.0</td>\n",
       "      <td>284691.0</td>\n",
       "      <td>7229.0</td>\n",
       "      <td>142569.0</td>\n",
       "      <td>5898.0</td>\n",
       "      <td>77520.0</td>\n",
       "      <td>4796.0</td>\n",
       "      <td>65049.0</td>\n",
       "      <td>3151.0</td>\n",
       "      <td>MULTIPOLYGON (((-87.94010 42.00079, -87.93993 ...</td>\n",
       "    </tr>\n",
       "  </tbody>\n",
       "</table>\n",
       "<p>1 rows × 23 columns</p>\n",
       "</div>"
      ],
      "text/plain": [
       "            geoid         name  B02001001  B02001001, Error  B02001002  \\\n",
       "0  16000US1714000  Chicago, IL  2699347.0              62.0  1288441.0   \n",
       "\n",
       "   B02001002, Error  B02001003  B02001003, Error  B02001004  B02001004, Error  \\\n",
       "0            8313.0   788732.0            4881.0     9244.0            1296.0   \n",
       "\n",
       "   ...  B02001006, Error  B02001007  B02001007, Error  B02001008  \\\n",
       "0  ...             244.0   284691.0            7229.0   142569.0   \n",
       "\n",
       "   B02001008, Error  B02001009  B02001009, Error  B02001010  B02001010, Error  \\\n",
       "0            5898.0    77520.0            4796.0    65049.0            3151.0   \n",
       "\n",
       "                                            geometry  \n",
       "0  MULTIPOLYGON (((-87.94010 42.00079, -87.93993 ...  \n",
       "\n",
       "[1 rows x 23 columns]"
      ]
     },
     "execution_count": 3,
     "metadata": {},
     "output_type": "execute_result"
    }
   ],
   "source": [
    "il_gdf = gpd.read_file('Chicago test/acs2020_5yr_B02001_16000US1714000.geojson')\n",
    "il_gdf.head()\n",
    "\n"
   ]
  },
  {
   "cell_type": "code",
   "execution_count": 4,
   "metadata": {},
   "outputs": [
    {
     "data": {
      "text/plain": [
       "<AxesSubplot:>"
      ]
     },
     "execution_count": 4,
     "metadata": {},
     "output_type": "execute_result"
    },
    {
     "data": {
      "image/png": "[encoded data removed]",
      "text/plain": [
       "<Figure size 720x720 with 1 Axes>"
      ]
     },
     "metadata": {
      "needs_background": "light"
     },
     "output_type": "display_data"
    }
   ],
   "source": [
    "il_gdf.plot(figsize=(10,10))"
   ]
  },
  {
   "cell_type": "code",
   "execution_count": 5,
   "metadata": {},
   "outputs": [
    {
     "data": {
      "text/plain": [
       "['geoid',\n",
       " 'name',\n",
       " 'B02001001',\n",
       " 'B02001001, Error',\n",
       " 'B02001002',\n",
       " 'B02001002, Error',\n",
       " 'B02001003',\n",
       " 'B02001003, Error',\n",
       " 'B02001004',\n",
       " 'B02001004, Error',\n",
       " 'B02001005',\n",
       " 'B02001005, Error',\n",
       " 'B02001006',\n",
       " 'B02001006, Error',\n",
       " 'B02001007',\n",
       " 'B02001007, Error',\n",
       " 'B02001008',\n",
       " 'B02001008, Error',\n",
       " 'B02001009',\n",
       " 'B02001009, Error',\n",
       " 'B02001010',\n",
       " 'B02001010, Error',\n",
       " 'geometry']"
      ]
     },
     "execution_count": 5,
     "metadata": {},
     "output_type": "execute_result"
    }
   ],
   "source": [
    "list(il_gdf)"
   ]
  },
  {
   "cell_type": "code",
   "execution_count": 6,
   "metadata": {},
   "outputs": [],
   "source": [
    "col_to_keep = ['geoid', 'name', 'B02001001', 'B02001002', 'B02001003', 'B02001004', 'B02001005', 'B02001006', 'B02001007', 'B02001008', 'B02001009', 'B02001010', 'geometry']"
   ]
  },
  {
   "cell_type": "code",
   "execution_count": 7,
   "metadata": {},
   "outputs": [
    {
     "data": {
      "text/plain": [
       "['geoid',\n",
       " 'name',\n",
       " 'B02001001',\n",
       " 'B02001002',\n",
       " 'B02001003',\n",
       " 'B02001004',\n",
       " 'B02001005',\n",
       " 'B02001006',\n",
       " 'B02001007',\n",
       " 'B02001008',\n",
       " 'B02001009',\n",
       " 'B02001010',\n",
       " 'geometry']"
      ]
     },
     "execution_count": 7,
     "metadata": {},
     "output_type": "execute_result"
    }
   ],
   "source": [
    "il_gdf = il_gdf[col_to_keep]\n",
    "list(il_gdf)"
   ]
  },
  {
   "cell_type": "code",
   "execution_count": 8,
   "metadata": {},
   "outputs": [],
   "source": [
    "il_gdf.columns = ['geoid', \n",
    "                'name', \n",
    "                'Total', \n",
    "                'White alone', \n",
    "                'Black or African American alone',\n",
    "                'American Indian and Alaska Native alone',\n",
    "                'Asian alone',\n",
    "                'Native Hawaiian and Other Pacific Islander alone',\n",
    "                'Some other race alone',\n",
    "                'Two or more races:',\n",
    "                'Two races including Some other race',\n",
    "                'Two races excluding Some other race, and three or more races',\n",
    "                'geometry']"
   ]
  },
  {
   "cell_type": "code",
   "execution_count": 10,
   "metadata": {},
   "outputs": [
    {
     "data": {
      "text/plain": [
       "<AxesSubplot:>"
      ]
     },
     "execution_count": 10,
     "metadata": {},
     "output_type": "execute_result"
    },
    {
     "data": {
      "image/png": "[encoded data removed]",
      "text/plain": [
       "<Figure size 432x288 with 1 Axes>"
      ]
     },
     "metadata": {
      "needs_background": "light"
     },
     "output_type": "display_data"
    }
   ],
   "source": [
    "il_gdf.sample().plot()"
   ]
  },
  {
   "cell_type": "code",
   "execution_count": 11,
   "metadata": {},
   "outputs": [
    {
     "name": "stdout",
     "output_type": "stream",
     "text": [
      "<class 'geopandas.geodataframe.GeoDataFrame'>\n",
      "RangeIndex: 1 entries, 0 to 0\n",
      "Data columns (total 13 columns):\n",
      " #   Column                                                        Non-Null Count  Dtype   \n",
      "---  ------                                                        --------------  -----   \n",
      " 0   geoid                                                         1 non-null      object  \n",
      " 1   name                                                          1 non-null      object  \n",
      " 2   Total                                                         1 non-null      float64 \n",
      " 3   White alone                                                   1 non-null      float64 \n",
      " 4   Black or African American alone                               1 non-null      float64 \n",
      " 5   American Indian and Alaska Native alone                       1 non-null      float64 \n",
      " 6   Asian alone                                                   1 non-null      float64 \n",
      " 7   Native Hawaiian and Other Pacific Islander alone              1 non-null      float64 \n",
      " 8   Some other race alone                                         1 non-null      float64 \n",
      " 9   Two or more races:                                            1 non-null      float64 \n",
      " 10  Two races including Some other race                           1 non-null      float64 \n",
      " 11  Two races excluding Some other race, and three or more races  1 non-null      float64 \n",
      " 12  geometry                                                      1 non-null      geometry\n",
      "dtypes: float64(10), geometry(1), object(2)\n",
      "memory usage: 232.0+ bytes\n"
     ]
    }
   ],
   "source": [
    "il_gdf.info()"
   ]
  },
  {
   "cell_type": "code",
   "execution_count": 12,
   "metadata": {},
   "outputs": [],
   "source": [
    "random_tract = il_gdf.sample()"
   ]
  },
  {
   "cell_type": "code",
   "execution_count": 13,
   "metadata": {},
   "outputs": [
    {
     "name": "stdout",
     "output_type": "stream",
     "text": [
      "Total population: 2699347.0\n"
     ]
    }
   ],
   "source": [
    "print('Total population: '+ str(random_tract.iloc[0]['Total']))"
   ]
  },
  {
   "cell_type": "code",
   "execution_count": 15,
   "metadata": {},
   "outputs": [
    {
     "data": {
      "text/html": [
       "<div>\n",
       "<style scoped>\n",
       "    .dataframe tbody tr th:only-of-type {\n",
       "        vertical-align: middle;\n",
       "    }\n",
       "\n",
       "    .dataframe tbody tr th {\n",
       "        vertical-align: top;\n",
       "    }\n",
       "\n",
       "    .dataframe thead th {\n",
       "        text-align: right;\n",
       "    }\n",
       "</style>\n",
       "<table border=\"1\" class=\"dataframe\">\n",
       "  <thead>\n",
       "    <tr style=\"text-align: right;\">\n",
       "      <th></th>\n",
       "      <th>geoid</th>\n",
       "      <th>name</th>\n",
       "      <th>Total</th>\n",
       "      <th>White alone</th>\n",
       "      <th>Black or African American alone</th>\n",
       "      <th>American Indian and Alaska Native alone</th>\n",
       "      <th>Asian alone</th>\n",
       "      <th>Native Hawaiian and Other Pacific Islander alone</th>\n",
       "      <th>Some other race alone</th>\n",
       "      <th>Two or more races:</th>\n",
       "      <th>Two races including Some other race</th>\n",
       "      <th>Two races excluding Some other race, and three or more races</th>\n",
       "      <th>geometry</th>\n",
       "    </tr>\n",
       "  </thead>\n",
       "  <tbody>\n",
       "    <tr>\n",
       "      <th>0</th>\n",
       "      <td>16000US1714000</td>\n",
       "      <td>Chicago, IL</td>\n",
       "      <td>2699347.0</td>\n",
       "      <td>1288441.0</td>\n",
       "      <td>788732.0</td>\n",
       "      <td>9244.0</td>\n",
       "      <td>184700.0</td>\n",
       "      <td>970.0</td>\n",
       "      <td>284691.0</td>\n",
       "      <td>142569.0</td>\n",
       "      <td>77520.0</td>\n",
       "      <td>65049.0</td>\n",
       "      <td>MULTIPOLYGON (((-87.94010 42.00079, -87.93993 ...</td>\n",
       "    </tr>\n",
       "  </tbody>\n",
       "</table>\n",
       "</div>"
      ],
      "text/plain": [
       "            geoid         name      Total  White alone  \\\n",
       "0  16000US1714000  Chicago, IL  2699347.0    1288441.0   \n",
       "\n",
       "   Black or African American alone  American Indian and Alaska Native alone  \\\n",
       "0                         788732.0                                   9244.0   \n",
       "\n",
       "   Asian alone  Native Hawaiian and Other Pacific Islander alone  \\\n",
       "0     184700.0                                             970.0   \n",
       "\n",
       "   Some other race alone  Two or more races:  \\\n",
       "0               284691.0            142569.0   \n",
       "\n",
       "   Two races including Some other race  \\\n",
       "0                              77520.0   \n",
       "\n",
       "   Two races excluding Some other race, and three or more races  \\\n",
       "0                                            65049.0              \n",
       "\n",
       "                                            geometry  \n",
       "0  MULTIPOLYGON (((-87.94010 42.00079, -87.93993 ...  "
      ]
     },
     "execution_count": 15,
     "metadata": {},
     "output_type": "execute_result"
    }
   ],
   "source": [
    "il_gdf.sample()\n"
   ]
  }
 ],
 "metadata": {
  "interpreter": {
   "hash": "c5e8e85cd1696198d935673ab9fa8434b4f3a3653895a925a7c8349598b3c94a"
  },
  "kernelspec": {
   "display_name": "Python 3.9.7 ('env')",
   "language": "python",
   "name": "python3"
  },
  "language_info": {
   "codemirror_mode": {
    "name": "ipython",
    "version": 3
   },
   "file_extension": ".py",
   "mimetype": "text/x-python",
   "name": "python",
   "nbconvert_exporter": "python",
   "pygments_lexer": "ipython3",
   "version": "3.9.7"
  },
  "orig_nbformat": 4
 },
 "nbformat": 4,
 "nbformat_minor": 2
}
