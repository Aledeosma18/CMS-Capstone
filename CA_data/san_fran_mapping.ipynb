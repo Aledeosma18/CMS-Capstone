{
 "cells": [
  {
   "cell_type": "code",
   "execution_count": 1,
   "metadata": {},
   "outputs": [],
   "source": [
    "import geopandas as gpd\n",
    "import pandas as pd\n",
    "import contextily as ctx\n",
    "import matplotlib.pyplot as plt"
   ]
  },
  {
   "cell_type": "code",
   "execution_count": 2,
   "metadata": {},
   "outputs": [],
   "source": [
    "data = gpd.read_file('san_fran/acs2020_5yr_B12001_14000US06075047600.geojson')\n",
    "income_data = gpd.read_file(\"income/income_san_fran.geojson\")"
   ]
  },
  {
   "cell_type": "code",
   "execution_count": 17,
   "metadata": {},
   "outputs": [],
   "source": []
  },
  {
   "cell_type": "code",
   "execution_count": null,
   "metadata": {},
   "outputs": [],
   "source": [
    "\n",
    "data.tail()"
   ]
  },
  {
   "cell_type": "code",
   "execution_count": null,
   "metadata": {},
   "outputs": [],
   "source": [
    "data = data.drop([160])\n",
    "data = data.drop([159])\n",
    "data = data.drop([154])\n",
    "data = data.drop([0])\n",
    "\n",
    "data.tail()"
   ]
  },
  {
   "cell_type": "code",
   "execution_count": null,
   "metadata": {},
   "outputs": [],
   "source": [
    "list(data)"
   ]
  },
  {
   "cell_type": "code",
   "execution_count": null,
   "metadata": {},
   "outputs": [],
   "source": [
    "col_to_keep = ['geoid',\n",
    " 'name',\n",
    " 'B12001001',\n",
    " 'B12001002',\n",
    " 'B12001003',\n",
    " 'B12001004',\n",
    " 'B12001005',\n",
    " 'B12001006',\n",
    " 'B12001007',\n",
    " 'B12001008',\n",
    " 'B12001009',\n",
    " 'B12001010',\n",
    " 'B12001011',\n",
    " 'B12001012',\n",
    " 'B12001013',\n",
    " 'B12001014',\n",
    " 'B12001015',\n",
    " 'B12001016',\n",
    " 'B12001017',\n",
    " 'B12001018',\n",
    " 'B12001019',\n",
    " 'geometry']"
   ]
  },
  {
   "cell_type": "code",
   "execution_count": null,
   "metadata": {},
   "outputs": [],
   "source": [
    "data = data[col_to_keep]\n",
    "data.columns = ['geoid',\n",
    "    'name',\n",
    "    'Total',\n",
    "    'Male',\n",
    "    'Never Married Male',\n",
    "    'Now Married Male',\n",
    "    'Married Spouse Present Male',\n",
    "    'Married Spouse Absent Male',\n",
    "    'Separated Male',\n",
    "    'Other Male',\n",
    "    'Widowed Male',\n",
    "    'Divorced Male',\n",
    "    'Female',\n",
    "    'Never Married Female',\n",
    "    'Now Married Female',\n",
    "    'Married Spouse Present Female',\n",
    "    'Married Spouse Absent Female',\n",
    "    'Separated Female',\n",
    "    'Other Female',\n",
    "    'Widowed Female',\n",
    "    'Divorced Female',\n",
    "    'geometry']"
   ]
  },
  {
   "cell_type": "code",
   "execution_count": null,
   "metadata": {},
   "outputs": [],
   "source": [
    "data.head()"
   ]
  },
  {
   "cell_type": "code",
   "execution_count": null,
   "metadata": {},
   "outputs": [],
   "source": [
    "data[\"Divorced Male\"]"
   ]
  },
  {
   "cell_type": "code",
   "execution_count": null,
   "metadata": {},
   "outputs": [],
   "source": [
    "# Checking validity of data \n",
    "random_tract = data.sample()\n",
    "random_tract"
   ]
  },
  {
   "cell_type": "code",
   "execution_count": null,
   "metadata": {},
   "outputs": [],
   "source": [
    "print('Total population: '+ str(random_tract.iloc[0]['Total']))\n",
    "random_tract.iloc[0]['Total']"
   ]
  },
  {
   "cell_type": "code",
   "execution_count": null,
   "metadata": {},
   "outputs": [],
   "source": [
    "data['Total'].plot.hist(figsize=(12,5), bins = 100, title = 'San Fran census tract by population size')"
   ]
  },
  {
   "cell_type": "code",
   "execution_count": null,
   "metadata": {},
   "outputs": [],
   "source": [
    "data['Never Married Male'].plot.hist(figsize=(12,5), bins = 100, title = 'san fran never married male')"
   ]
  },
  {
   "cell_type": "code",
   "execution_count": null,
   "metadata": {},
   "outputs": [],
   "source": [
    "data['Never Married Female'].plot.hist(figsize=(12,5), bins = 100, title = 'san fran never married female')"
   ]
  },
  {
   "cell_type": "code",
   "execution_count": null,
   "metadata": {},
   "outputs": [],
   "source": [
    "data_sorted = data.sort_values(by = 'Total', ascending = False)\n",
    "data_sorted.head()"
   ]
  },
  {
   "cell_type": "code",
   "execution_count": null,
   "metadata": {},
   "outputs": [],
   "source": [
    "divorce = data[\"Divorced Male\"] + data[\"Divorced Female\"]\n",
    "divorced_data = [data[\"geoid\"], data[\"name\"], divorce]\n",
    "headers = [\"geoid\", \"name\", \"Divorced People\"]\n",
    "divorced_df = pd.concat(divorced_data, axis = 1, keys=headers)\n"
   ]
  },
  {
   "cell_type": "code",
   "execution_count": null,
   "metadata": {},
   "outputs": [],
   "source": [
    "#data_sorted[['geoid','Total','Never Married Male','Now Married Male']].head(10)"
   ]
  },
  {
   "cell_type": "code",
   "execution_count": null,
   "metadata": {},
   "outputs": [],
   "source": [
    "#data_sorted.plot(figsize=(10,10), column = 'Total', cmap ='plasma', legend = True)\n"
   ]
  },
  {
   "cell_type": "code",
   "execution_count": null,
   "metadata": {},
   "outputs": [],
   "source": [
    "#no_population_tracts = data[data['Total']==0]\n",
    "#print('There are : '+ str(len(no_population_tracts)) + ' tracts with no population')"
   ]
  },
  {
   "cell_type": "code",
   "execution_count": null,
   "metadata": {},
   "outputs": [],
   "source": [
    "#def normalize_with_total(data, value):\n",
    "    #return (data[value]/data['Total']) * 100"
   ]
  },
  {
   "cell_type": "code",
   "execution_count": null,
   "metadata": {},
   "outputs": [],
   "source": [
    "#data['Percent Never Married Male'] = normalize_with_total(data, 'Never Married Male')\n",
    "#data['Percent Now Married Male'] = normalize_with_total(data, 'Now Married Male')\n"
   ]
  }
 ],
 "metadata": {
  "interpreter": {
   "hash": "c5e8e85cd1696198d935673ab9fa8434b4f3a3653895a925a7c8349598b3c94a"
  },
  "kernelspec": {
   "display_name": "Python 3.9.7 ('env')",
   "language": "python",
   "name": "python3"
  },
  "language_info": {
   "codemirror_mode": {
    "name": "ipython",
    "version": 3
   },
   "file_extension": ".py",
   "mimetype": "text/x-python",
   "name": "python",
   "nbconvert_exporter": "python",
   "pygments_lexer": "ipython3",
   "version": "3.9.7"
  },
  "orig_nbformat": 4
 },
 "nbformat": 4,
 "nbformat_minor": 2
}
