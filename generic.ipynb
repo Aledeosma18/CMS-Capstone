{
 "cells": [
  {
   "cell_type": "code",
   "execution_count": null,
   "metadata": {},
   "outputs": [],
   "source": [
    "import geopandas as gpd\n",
    "import pandas as pd\n",
    "import contextily as ctx\n",
    "import matplotlib.pyplot as plt"
   ]
  },
  {
   "cell_type": "code",
   "execution_count": null,
   "metadata": {},
   "outputs": [],
   "source": [
    "# Add data to geopandas df\n",
    "# Make sure you download the files included in this folder in order to use this code\n",
    "# Change me\n",
    "'''\n",
    "Format:\n",
    "name_of_file = gpd.read_file('<file path>/<file>')\n",
    "\n",
    "'''\n",
    "chicago_r_data = gpd.read_file('chicago_race/chicago_race.geojson')\n"
   ]
  },
  {
   "cell_type": "code",
   "execution_count": null,
   "metadata": {},
   "outputs": [],
   "source": [
    "# Make sure there are the same number of census tracts in both\n",
    "def check_shape(i_data, h_data):\n",
    "    print('Housing shape: ', h_data.shape)\n",
    "    print('Income shape:', i_data.shape)"
   ]
  },
  {
   "cell_type": "code",
   "execution_count": null,
   "metadata": {},
   "outputs": [],
   "source": [
    "# Columns to keep for income\n",
    "def income_keep():\n",
    "    income_col = ['geoid',\n",
    " 'name',\n",
    " 'B19001001',\n",
    " 'B19001002',\n",
    " 'B19001003',\n",
    " 'B19001004',\n",
    " 'B19001005',\n",
    " 'B19001006',\n",
    " 'B19001007',\n",
    " 'B19001008',\n",
    " 'B19001009',\n",
    " 'B19001010',\n",
    " 'B19001011',\n",
    " 'B19001012',\n",
    " 'B19001013',\n",
    " 'B19001014',\n",
    " 'B19001015',\n",
    " 'B19001016',\n",
    " 'B19001017',\n",
    " 'geometry']\n",
    "    return income_col\n"
   ]
  },
  {
   "cell_type": "code",
   "execution_count": null,
   "metadata": {},
   "outputs": [],
   "source": [
    "# Columns to keep for housing\n",
    "def housing_keep():\n",
    "   housing_col = ['geoid',\n",
    " 'name',\n",
    " 'B25003001',\n",
    " 'B25003002',\n",
    " 'B25003003',\n",
    " 'geometry']\n",
    "   return housing_col"
   ]
  },
  {
   "cell_type": "code",
   "execution_count": null,
   "metadata": {},
   "outputs": [],
   "source": [
    "def race_data_keep():\n",
    "    col_to_keep = ['geoid', \n",
    "        'name',\n",
    "        'B03002001',\n",
    "        'B03002002',\n",
    "        'B03002003',\n",
    "        'B03002004',\n",
    "        'B03002005',            \n",
    "        'B03002006',\n",
    "        'B03002007',\n",
    "        'B03002008',\n",
    "        'B03002009',\n",
    "        'B03002010',\n",
    "        'B03002011',\n",
    "        'B03002012',\n",
    "        'B03002013',\n",
    "        'B03002014',\n",
    "        'B03002015',\n",
    "        'B03002016',\n",
    "        'B03002017',\n",
    "        'B03002018',\n",
    "        'B03002019',\n",
    "        'B03002020',\n",
    "        'B03002021',\n",
    "        'geometry']\n",
    "    return col_to_keep"
   ]
  },
  {
   "cell_type": "code",
   "execution_count": null,
   "metadata": {},
   "outputs": [],
   "source": [
    "def marital_keep():\n",
    "    col_to_keep = ['geoid',\n",
    " 'name',\n",
    " 'B12001001',\n",
    " 'B12001002',\n",
    " 'B12001003',\n",
    " 'B12001004',\n",
    " 'B12001005',\n",
    " 'B12001006',\n",
    " 'B12001007',\n",
    " 'B12001008',\n",
    " 'B12001009',\n",
    " 'B12001010',\n",
    " 'B12001011',\n",
    " 'B12001012',\n",
    " 'B12001013',\n",
    " 'B12001014',\n",
    " 'B12001015',\n",
    " 'B12001016',\n",
    " 'B12001017',\n",
    " 'B12001018',\n",
    " 'B12001019',\n",
    " 'geometry']\n",
    "    return col_to_keep"
   ]
  },
  {
   "cell_type": "code",
   "execution_count": null,
   "metadata": {},
   "outputs": [],
   "source": [
    "#  Assign those new cols to each set\n",
    "def rename_income(i_data):\n",
    "    i_data = i_data[income_keep()]\n",
    "    i_data.columns = ['geoid',\n",
    "    'name',\n",
    "    'Total:',\n",
    "    'Less than $10,000',\n",
    "    '$10,000 to $14,999',\n",
    "    '$15,000 to $19,999',\n",
    "    '$20,000 to $24,999',\n",
    "    '$25,000 to $29,999',\n",
    "    '$30,000 to $34,999',\n",
    "    '$35,000 to $39,999',\n",
    "    '$40,000 to $44,999',\n",
    "    '$45,000 to $49,999',\n",
    "    '$50,000 to $59,999',\n",
    "    '$60,000 to $74,999',\n",
    "    '$75,000 to $99,999',\n",
    "    '$100,000 to $124,999',\n",
    "    '$125,000 to $149,999',\n",
    "    '$150,000 to $199,999',\n",
    "    '$200,000 or more',\n",
    "    'geometry']\n",
    "    return i_data"
   ]
  },
  {
   "cell_type": "code",
   "execution_count": null,
   "metadata": {},
   "outputs": [],
   "source": [
    "# Housing data column name change\n",
    "def rename_housing(h_data):\n",
    "    h_data = h_data[housing_keep()]\n",
    "    h_data.columns = ['geoid',\n",
    "    'name',\n",
    "    'Total',\n",
    "    'Owner occupied',\n",
    "    'Renter occupied',\n",
    "    'geometry']\n",
    "    return h_data"
   ]
  },
  {
   "cell_type": "code",
   "execution_count": null,
   "metadata": {},
   "outputs": [],
   "source": [
    "def rename_race(r_data):\n",
    "    r_data = r_data[race_data_keep()]\n",
    "    r_data.columns = ['geoid', \n",
    "        'name', \n",
    "        'Total',\n",
    "        'Not Hispanic or Latino',\n",
    "        'White alone',\n",
    "        'Black or African American alone',\n",
    "        'American Indian and Alaska Native alone',\n",
    "        'Asian alone',\n",
    "        'Native Hawaiian and Other Pacific Islander alone',\n",
    "        'Some other race alone',\n",
    "        'Two or more races',\n",
    "        'Two races including Some other race',\n",
    "        'Two races excluding Some other race, and three or more races',\n",
    "        'Hispanic or Latino',\n",
    "        'Hispanic White',\n",
    "        'Hispanic Black or African American',\n",
    "        'Hispanic American Indian and Alaska Native',\n",
    "        'Hispanic Asian',\n",
    "        'Hispanic Native Hawaiian and Other Pacific Islander alone',\n",
    "        'Hispanic Some other race',\n",
    "        'Hispanic two or more races',\n",
    "        'Hispanic two races including Some other race',\n",
    "        'Hispanic two races excluding Some other race, and three or more races',\n",
    "        'geometry']\n",
    "    return r_data\n",
    "        "
   ]
  },
  {
   "cell_type": "code",
   "execution_count": null,
   "metadata": {},
   "outputs": [],
   "source": [
    "def marital_rename(m_data):\n",
    "    m_data = m_data[marital_keep()]\n",
    "    m_data.columns = ['geoid',\n",
    "    'name',\n",
    "    'Total',\n",
    "    'Male',\n",
    "    'Never Married Male',\n",
    "    'Now Married Male',\n",
    "    'Married Spouse Present Male',\n",
    "    'Married Spouse Absent Male',\n",
    "    'Separated Male',\n",
    "    'Other Male',\n",
    "    'Widowed Male',\n",
    "    'Divorced Male',\n",
    "    'Female',\n",
    "    'Never Married Female',\n",
    "    'Now Married Female',\n",
    "    'Married Spouse Present Female',\n",
    "    'Married Spouse Absent Female',\n",
    "    'Separated Female',\n",
    "    'Other Female',\n",
    "    'Widowed Female',\n",
    "    'Divorced Female',\n",
    "    'geometry']\n",
    "    return m_data"
   ]
  },
  {
   "cell_type": "code",
   "execution_count": null,
   "metadata": {},
   "outputs": [],
   "source": [
    "def plot_item(data, col):\n",
    "    data.plot(figsize=(12,10), column = col, legend = True, scheme = 'NaturalBreaks')"
   ]
  },
  {
   "cell_type": "code",
   "execution_count": null,
   "metadata": {},
   "outputs": [],
   "source": [
    "# rename Data set and remove unwanted spots\n",
    "'''\n",
    "Format:\n",
    "name_of_data = rename_function(name_of_data)\n",
    "'''\n",
    "chicago_r_data = rename_race(chicago_r_data)\n"
   ]
  },
  {
   "cell_type": "code",
   "execution_count": null,
   "metadata": {},
   "outputs": [],
   "source": [
    "# Plot\n",
    "'''\n",
    "Format:\n",
    "plot_item(name_of_data, '<column name>')\n",
    "'''\n",
    "plot_item(chicago_r_data, 'Hispanic White')\n",
    "plot_item(chicago_r_data, 'White alone')"
   ]
  }
 ],
 "metadata": {
  "interpreter": {
   "hash": "c5e8e85cd1696198d935673ab9fa8434b4f3a3653895a925a7c8349598b3c94a"
  },
  "kernelspec": {
   "display_name": "Python 3.9.7 ('env')",
   "language": "python",
   "name": "python3"
  },
  "language_info": {
   "codemirror_mode": {
    "name": "ipython",
    "version": 3
   },
   "file_extension": ".py",
   "mimetype": "text/x-python",
   "name": "python",
   "nbconvert_exporter": "python",
   "pygments_lexer": "ipython3",
   "version": "3.9.12"
  },
  "orig_nbformat": 4
 },
 "nbformat": 4,
 "nbformat_minor": 2
}
