{
 "cells": [
  {
   "cell_type": "code",
   "execution_count": null,
   "metadata": {},
   "outputs": [],
   "source": [
    "import geopandas as gpd\n",
    "import pandas as pd\n",
    "import contextily as ctx\n",
    "import matplotlib.pyplot as plt"
   ]
  },
  {
   "cell_type": "code",
   "execution_count": null,
   "metadata": {},
   "outputs": [],
   "source": [
    "# Add data to geopandas df\n",
    "# Make sure you download the files included in this folder in order to use this code\n",
    "# Change me\n",
    "houston_h_data = gpd.read_file('houston/houston_housing/acs2020_5yr_B25003_14000US48201553401.geojson')\n",
    "houston_i_data = gpd.read_file('houston/houston_income/acs2020_5yr_B19001_14000US48201553401.geojson')\n",
    "chicago_i_data = gpd.read_file('chicago/acs2020_5yr_B19001_14000US17031760801.geojson')\n",
    "chicago_h_data = gpd.read_file('chicago_house/chicago_house_data.geojson')\n"
   ]
  },
  {
   "cell_type": "code",
   "execution_count": null,
   "metadata": {},
   "outputs": [],
   "source": [
    "# Make sure there are the same number of census tracts in both\n",
    "def check_shape(i_data, h_data):\n",
    "    print('Housing shape: ', h_data.shape)\n",
    "    print('Income shape:', i_data.shape)"
   ]
  },
  {
   "cell_type": "code",
   "execution_count": null,
   "metadata": {},
   "outputs": [],
   "source": [
    "# Columns to keep for each data set\n",
    "def income_keep():\n",
    "    income_col = ['geoid',\n",
    " 'name',\n",
    " 'B19001001',\n",
    " 'B19001002',\n",
    " 'B19001003',\n",
    " 'B19001004',\n",
    " 'B19001005',\n",
    " 'B19001006',\n",
    " 'B19001007',\n",
    " 'B19001008',\n",
    " 'B19001009',\n",
    " 'B19001010',\n",
    " 'B19001011',\n",
    " 'B19001012',\n",
    " 'B19001013',\n",
    " 'B19001014',\n",
    " 'B19001015',\n",
    " 'B19001016',\n",
    " 'B19001017',\n",
    " 'geometry']\n",
    "    return income_col\n",
    "\n",
    "def housing_keep():\n",
    "    housing_col = ['geoid',\n",
    " 'name',\n",
    " 'B25003001',\n",
    " 'B25003002',\n",
    " 'B25003003',\n",
    " 'geometry']\n",
    "    return housing_col"
   ]
  },
  {
   "cell_type": "code",
   "execution_count": null,
   "metadata": {},
   "outputs": [],
   "source": [
    "#  Assign those new cols to each set\n",
    "def rename_income(i_data):\n",
    "    i_data = i_data[income_keep()]\n",
    "    i_data.columns = ['geoid',\n",
    "    'name',\n",
    "    'Total:',\n",
    "    'Less than $10,000',\n",
    "    '$10,000 to $14,999',\n",
    "    '$15,000 to $19,999',\n",
    "    '$20,000 to $24,999',\n",
    "    '$25,000 to $29,999',\n",
    "    '$30,000 to $34,999',\n",
    "    '$35,000 to $39,999',\n",
    "    '$40,000 to $44,999',\n",
    "    '$45,000 to $49,999',\n",
    "    '$50,000 to $59,999',\n",
    "    '$60,000 to $74,999',\n",
    "    '$75,000 to $99,999',\n",
    "    '$100,000 to $124,999',\n",
    "    '$125,000 to $149,999',\n",
    "    '$150,000 to $199,999',\n",
    "    '$200,000 or more',\n",
    "    'geometry']\n",
    "    return i_data"
   ]
  },
  {
   "cell_type": "code",
   "execution_count": null,
   "metadata": {},
   "outputs": [],
   "source": [
    "# Housing data column name change\n",
    "def rename_housing(h_data):\n",
    "    h_data = h_data[housing_keep()]\n",
    "    h_data.columns = ['geoid',\n",
    "    'name',\n",
    "    'Total',\n",
    "    'Owner occupied',\n",
    "    'Renter occupied',\n",
    "    'geometry']\n",
    "    return h_data"
   ]
  },
  {
   "cell_type": "code",
   "execution_count": null,
   "metadata": {},
   "outputs": [],
   "source": [
    "def plot_item(data, col):\n",
    "    data.plot(figsize=(12,10), column = col, legend = True, scheme = 'NaturalBreaks')"
   ]
  },
  {
   "cell_type": "code",
   "execution_count": null,
   "metadata": {},
   "outputs": [],
   "source": [
    "# rename each data set and remove unwanted spots\n",
    "houston_h_data = rename_housing(houston_h_data)\n",
    "houston_i_data = rename_income(houston_i_data)\n",
    "chicago_i_data = rename_income(chicago_i_data)\n",
    "chicago_h_data = rename_housing(chicago_h_data)\n"
   ]
  },
  {
   "cell_type": "code",
   "execution_count": null,
   "metadata": {},
   "outputs": [],
   "source": [
    "plot_item(houston_h_data, 'Renter occupied')\n",
    "plot_item(houston_i_data, 'Less than $10,000')"
   ]
  },
  {
   "cell_type": "code",
   "execution_count": null,
   "metadata": {},
   "outputs": [],
   "source": [
    "plot_item(chicago_h_data, 'Renter occupied')\n",
    "plot_item(chicago_i_data, 'Less than $10,000')"
   ]
  }
 ],
 "metadata": {
  "interpreter": {
   "hash": "c5e8e85cd1696198d935673ab9fa8434b4f3a3653895a925a7c8349598b3c94a"
  },
  "kernelspec": {
   "display_name": "Python 3.9.7 ('env')",
   "language": "python",
   "name": "python3"
  },
  "language_info": {
   "codemirror_mode": {
    "name": "ipython",
    "version": 3
   },
   "file_extension": ".py",
   "mimetype": "text/x-python",
   "name": "python",
   "nbconvert_exporter": "python",
   "pygments_lexer": "ipython3",
   "version": "3.9.12"
  },
  "orig_nbformat": 4
 },
 "nbformat": 4,
 "nbformat_minor": 2
}
